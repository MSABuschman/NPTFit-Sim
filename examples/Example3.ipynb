{
 "cells": [
  {
   "cell_type": "markdown",
   "metadata": {},
   "source": [
    "# Example 1: Basic Simulation and Recovery of SCD with NPTFit"
   ]
  },
  {
   "cell_type": "markdown",
   "metadata": {},
   "source": [
    "In this example we cover how to run a point source Monte Carlo simulation for a user defined template and source-count distribution (SCD) with NPTFit-Sim. In this example we use a uniform template to produce a simulated counts map. The counts map is then run through NPTFit to recover the injected SCD."
   ]
  },
  {
   "cell_type": "markdown",
   "metadata": {},
   "source": [
    "The relevant modules are imported."
   ]
  },
  {
   "cell_type": "code",
   "execution_count": 1,
   "metadata": {},
   "outputs": [],
   "source": [
    "%matplotlib inline\n",
    "%load_ext autoreload\n",
    "%autoreload 2\n",
    "\n",
    "import sys\n",
    "sys.path.append('../NPTFit-Sim/')\n",
    "import ps_mc\n",
    "import numpy as np\n",
    "import healpy as hp\n",
    "import matplotlib.pyplot as plt"
   ]
  },
  {
   "cell_type": "markdown",
   "metadata": {},
   "source": [
    "## Define Source Count Distribution & Load Templates"
   ]
  },
  {
   "cell_type": "markdown",
   "metadata": {},
   "source": [
    "Begin by defining the source count distribution. Here we use a SCD with one break.\n",
    "\n",
    "It is important to remember that input parameters of the SCD are defined from high to low flux (or counts). This means, for example, in a model with a single broken power law the index that corresponds to higher flux should be listed as the first value in your array."
   ]
  },
  {
   "cell_type": "code",
   "execution_count": 2,
   "metadata": {},
   "outputs": [],
   "source": [
    "n = np.array([15.00,-1.0]) # indexes for SCD\n",
    "S = np.array([10.00]) # SCD break, here in terms of counts\n",
    "A = -1.00 # log-normilization\n",
    "name = \"simulation\" # Name of output file"
   ]
  },
  {
   "cell_type": "markdown",
   "metadata": {},
   "source": [
    "Create a basic template and exposure map.\n",
    "\n",
    "Here we use a low nside for uniform exposure and template maps."
   ]
  },
  {
   "cell_type": "code",
   "execution_count": 3,
   "metadata": {},
   "outputs": [],
   "source": [
    "nside = 16\n",
    "npix = hp.nside2npix(nside)\n",
    "\n",
    "temp = 0.1 * np.ones(npix).astype(float)\n",
    "EXP = np.ones(npix).astype(float)"
   ]
  },
  {
   "cell_type": "markdown",
   "metadata": {},
   "source": [
    "The SCD as described above is in terms of counts. NPTFit-Sim uses source count distributions that are defined in terms of flux, i.e. dN/dF as opposed to dN/dS. The two distributions are related by the exposure as follows:"
   ]
  },
  {
   "cell_type": "markdown",
   "metadata": {},
   "source": [
    "$$\\frac{dN_{p}}{dS}(S;\\theta) = \\frac{1}{E_{p}} \\frac{dN_{p}}{dF}(F = S/E_{p};\\theta)$$"
   ]
  },
  {
   "cell_type": "markdown",
   "metadata": {},
   "source": [
    "To correct for this effect, the mean exposure is calculated from the exposure map and divided through the count break, $S$, to form a flux break. Additionally, the normilization, $A$, is multiplied by the mean exposure to transform the SCD in terms of counts to flux. Note, we can just add the logarithm of the mean exposure to the log-normalization."
   ]
  },
  {
   "cell_type": "code",
   "execution_count": 4,
   "metadata": {},
   "outputs": [],
   "source": [
    "# Calculate the mean exposure\n",
    "mean_exp = np.mean(EXP)\n",
    "                   \n",
    "# Calculate flux break from counts break and mean exposure\n",
    "F = S / mean_exp\n",
    "                   \n",
    "# Cornvert log-normilization term, A, into terms of flux\n",
    "A = A + np.log10(mean_exp)"
   ]
  },
  {
   "cell_type": "markdown",
   "metadata": {},
   "source": [
    "## User Defined PSF"
   ]
  },
  {
   "cell_type": "markdown",
   "metadata": {},
   "source": [
    "Prior to running the simulation, the user must define a PSF using a lambda function. For this simple case we will only consider a Gaussian.\n",
    "\n",
    "Your PSF must be a defined in terms of radians."
   ]
  },
  {
   "cell_type": "code",
   "execution_count": 5,
   "metadata": {},
   "outputs": [],
   "source": [
    "# Define parameters that specify the PSF\n",
    "sigma = 2.00 * np.pi/180.\n",
    "\n",
    "# Lambda function to pass user defined PSF\n",
    "psf_r = lambda r: np.exp(-r**2. / (2.*sigma**2.))"
   ]
  },
  {
   "cell_type": "markdown",
   "metadata": {},
   "source": [
    "## Define Energy Dependence\n",
    "\n",
    "Ebins are the bin edges.\n",
    "Simple Power law for demonstration, but any arbitrary function can be used"
   ]
  },
  {
   "cell_type": "code",
   "execution_count": 6,
   "metadata": {},
   "outputs": [],
   "source": [
    "Ebins = np.array([0.1,0.2,0.3,0.5,0.8,1.5,10])\n",
    "Edep  = lambda E,Eparam: E**Eparam[0]\n",
    "Eparam = np.array([-2.2])"
   ]
  },
  {
   "cell_type": "markdown",
   "metadata": {},
   "source": [
    "## Run NPTFit-Sim\n",
    "\n",
    "The simulation can be started by calling on the run function from the ps_mc module that was imported earlier. It depends on the parameters of the SCD, the exposure and template maps, and the PSF. It also gives the user the option to save their map to a .npy file with the name of their choice. Simulations with ~ 1000 sources will take no more than a few seconds to run."
   ]
  },
  {
   "cell_type": "code",
   "execution_count": 7,
   "metadata": {},
   "outputs": [
    {
     "name": "stdout",
     "output_type": "stream",
     "text": [
      "Number of sources from Poisson draw: 176\n",
      "Sampling the source count distribution.\n",
      "Simulating counts map ...\n",
      "Done simulation.\n"
     ]
    }
   ],
   "source": [
    "sim_maps = ps_mc.run(n,F,A,temp,EXP,psf_r,Ebins,Edep,Eparam,name=\"map\",save=False)"
   ]
  },
  {
   "cell_type": "code",
   "execution_count": 8,
   "metadata": {},
   "outputs": [
    {
     "data": {
      "image/png": "[encoded data removed]",
      "text/plain": [
       "<matplotlib.figure.Figure at 0x2ad0a57c2250>"
      ]
     },
     "metadata": {},
     "output_type": "display_data"
    },
    {
     "data": {
      "image/png": "[encoded data removed]",
      "text/plain": [
       "<matplotlib.figure.Figure at 0x2ad0a7b4e190>"
      ]
     },
     "metadata": {},
     "output_type": "display_data"
    },
    {
     "data": {
      "image/png": "[encoded data removed]",
      "text/plain": [
       "<matplotlib.figure.Figure at 0x2ad0a7d74150>"
      ]
     },
     "metadata": {},
     "output_type": "display_data"
    }
   ],
   "source": [
    "#View the output on a HEALPix maps\n",
    "for i in [0,2,4]:\n",
    "    fig1, (ax1, ax2) = plt.subplots(ncols=2)\n",
    "    plt.axes(ax1)\n",
    "    hp.mollview(sim_maps[0+i],title=\"E = [\"+str(Ebins[0+i])+\"-\"+str(Ebins[1+i])+\"]\", hold=True)\n",
    "    plt.axes(ax2)\n",
    "    hp.mollview(sim_maps[1+i],title=\"E = [\"+str(Ebins[1+i])+\"-\"+str(Ebins[2+i])+\"]\", hold=True)"
   ]
  },
  {
   "cell_type": "code",
   "execution_count": 9,
   "metadata": {},
   "outputs": [
    {
     "data": {
      "image/png": "[encoded data removed]",
      "text/plain": [
       "<matplotlib.figure.Figure at 0x2ad0a7b4e410>"
      ]
     },
     "metadata": {},
     "output_type": "display_data"
    }
   ],
   "source": [
    "sum_map = np.copy(sim_maps[0])\n",
    "for i in [1, 2, 3, 4, 5]:\n",
    "    sum_map += sim_maps[i]\n",
    "    \n",
    "hp.mollview(sum_map,title=\"Integrated over Energy\", hold=True)    "
   ]
  },
  {
   "cell_type": "code",
   "execution_count": null,
   "metadata": {},
   "outputs": [],
   "source": []
  }
 ],
 "metadata": {
  "celltoolbar": "Raw Cell Format",
  "kernelspec": {
   "display_name": "Python 2",
   "language": "python",
   "name": "python2"
  },
  "language_info": {
   "codemirror_mode": {
    "name": "ipython",
    "version": 2
   },
   "file_extension": ".py",
   "mimetype": "text/x-python",
   "name": "python",
   "nbconvert_exporter": "python",
   "pygments_lexer": "ipython2",
   "version": "2.7.11"
  }
 },
 "nbformat": 4,
 "nbformat_minor": 2
}
